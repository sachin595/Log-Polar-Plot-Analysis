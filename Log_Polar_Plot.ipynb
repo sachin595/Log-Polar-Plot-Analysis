{
 "cells": [
  {
   "cell_type": "markdown",
   "id": "78dd1215",
   "metadata": {},
   "source": [
    "# Log Polar Plot"
   ]
  },
  {
   "cell_type": "code",
   "execution_count": 76,
   "id": "d65cb42f",
   "metadata": {},
   "outputs": [],
   "source": [
    "#These lines import the necessary modules cv2 and numpy.\n",
    "import cv2\n",
    "import numpy as np\n",
    "\n",
    "# Load the image\n",
    "img = cv2.imread(\"C:/Users/DELL/Desktop/CVS/Log Polar/pics/plane_rotated.jpg\")\n",
    "\n",
    "#This line of code converts the input image 'img' from the \n",
    "#BGR color space to the grayscale color space using the OpenCV function cv2.cvtColor()\n",
    "#gray = cv2.cvtColor(img, cv2.COLOR_BGR2GRAY)\n",
    "\n",
    "# Define the center point\n",
    "#This line calculates the center of the image by dividing its width and height by 2. The result is stored as a tuple in the variable center.\n",
    "center = (img.shape[1] / 2, img.shape[0] / 2)\n",
    "\n",
    "# Calculate the maximum radius\n",
    "#This line calculates the maximum radius of the log-polar transformation by computing the distance between the center of the image and the corner of the image (i.e., the maximum radius from the center). The result is stored in the variable max_radius.\n",
    "max_radius = np.sqrt((center[0] ** 2) + (center[1] ** 2))\n",
    "\n",
    "# Set the number of angular bins and the number of radial bins\n",
    "#These lines determine the number of angular bins and radial bins for the log-polar transformation. The number of angular bins is set to half the width of the image, while the number of radial bins is set to the ceiling of the maximum radius.\n",
    "angular_bins = img.shape[1] // 2\n",
    "radial_bins = int(np.ceil(max_radius))\n",
    "\n",
    "# Calculate the log-polar transformation\n",
    "#This line performs the log-polar transformation on the input image img. The center of the transformation is set to center, the number of angular bins is set to 40, and the WARP_FILL_OUTLIERS parameter is used to handle any pixels that fall outside the image boundary. The result is stored in the variable log_polar.\n",
    "log_polar = cv2.logPolar(img, center, 40, cv2.WARP_FILL_OUTLIERS )\n",
    "\n",
    "# Normalize the log-polar plot\n",
    "#These lines normalize the log-polar plot to enhance its contrast. First, we subtract the minimum value of the plot from all its elements, which ensures that the minimum value is zero. Next, we multiply all the elements by a scaling factor to ensure that the maximum value is 255 (the maximum value of an 8-bit grayscale image). Finally, we convert the log-polar plot to an 8-bit unsigned integer format for display purposes.\n",
    "log_polar_min = log_polar.min()\n",
    "log_polar_max = log_polar.max()\n",
    "log_polar_norm = (log_polar - log_polar_min) / (log_polar_max - log_polar_min) * 255\n",
    "log_polar_norm = log_polar_norm.astype(np.uint8)\n",
    "\n",
    "# Display the log-polar plot\n",
    "#These lines display the resulting log-polar plot in a new window using the cv2.imshow() function. The window is named 'Log-Polar Plot'. The program waits for the user to press any key to close the window using the cv2.waitKey() function. Finally, we use the cv2.destroyAllWindows() function to close all windows.\n",
    "cv2.imshow('Log-Polar Plot', log_polar)\n",
    "cv2.waitKey(0)\n",
    "cv2.destroyAllWindows()"
   ]
  }
 ],
 "metadata": {
  "kernelspec": {
   "display_name": "Python 3 (ipykernel)",
   "language": "python",
   "name": "python3"
  },
  "language_info": {
   "codemirror_mode": {
    "name": "ipython",
    "version": 3
   },
   "file_extension": ".py",
   "mimetype": "text/x-python",
   "name": "python",
   "nbconvert_exporter": "python",
   "pygments_lexer": "ipython3",
   "version": "3.9.12"
  }
 },
 "nbformat": 4,
 "nbformat_minor": 5
}
