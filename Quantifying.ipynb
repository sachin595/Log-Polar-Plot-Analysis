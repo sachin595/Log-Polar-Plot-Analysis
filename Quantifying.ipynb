{
 "cells": [
  {
   "cell_type": "markdown",
   "id": "563af83d",
   "metadata": {},
   "source": [
    "# Calculating Angle of Rotation & Extent of Translation"
   ]
  },
  {
   "cell_type": "code",
   "execution_count": 17,
   "id": "856cdc20",
   "metadata": {},
   "outputs": [
    {
     "name": "stdout",
     "output_type": "stream",
     "text": [
      "Angle of rotation: 94.06 degrees\n",
      "Extent of translation: 0.52\n"
     ]
    }
   ],
   "source": [
    "import cv2\n",
    "import numpy as np\n",
    "\n",
    "# Load the original image\n",
    "img = cv2.imread(\"C:/Users/DELL/Desktop/CVS/Log Polar/pics/plane_rotated.jpg\")\n",
    "\n",
    "# Convert the image to grayscale\n",
    "gray = cv2.cvtColor(img, cv2.COLOR_BGR2GRAY)\n",
    "\n",
    "# Calculate the log-polar plot of the image\n",
    "M, N = gray.shape\n",
    "center = (N//2, M//2)\n",
    "log_polar = cv2.logPolar(gray, center, 40,  cv2.WARP_FILL_OUTLIERS)\n",
    "\n",
    "#In this code, we first load the original image and convert it to grayscale. We then calculate the log-polar plot of the image using the cv2.logPolar function, which takes the center of the log-polar plot, the magnitude of the radial axis (which determines the extent of zooming), and the interpolation method as inputs. We then find the location of the maximum pixel value in the log-polar plot using the np.argmax function and calculate the angle of rotation and extent of translation based on that location. Finally, we print the angle and extent of translation.\n",
    "# Find the location of the maximum pixel value in the log-polar plot\n",
    "max_loc = np.unravel_index(np.argmax(log_polar), log_polar.shape)\n",
    "\n",
    "# Calculate the angle of rotation\n",
    "angle = max_loc[1] * 360.0 / log_polar.shape[1]\n",
    "\n",
    "# Calculate the extent of translation\n",
    "r_max = log_polar.shape[0] / 2\n",
    "r = max_loc[0]\n",
    "translation = (r_max - r) / r_max\n",
    "\n",
    "print(\"Angle of rotation: {:.2f} degrees\".format(angle))\n",
    "print(\"Extent of translation: {:.2f}\".format(translation))"
   ]
  }
 ],
 "metadata": {
  "kernelspec": {
   "display_name": "Python 3 (ipykernel)",
   "language": "python",
   "name": "python3"
  },
  "language_info": {
   "codemirror_mode": {
    "name": "ipython",
    "version": 3
   },
   "file_extension": ".py",
   "mimetype": "text/x-python",
   "name": "python",
   "nbconvert_exporter": "python",
   "pygments_lexer": "ipython3",
   "version": "3.9.12"
  }
 },
 "nbformat": 4,
 "nbformat_minor": 5
}
